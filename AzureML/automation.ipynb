{
 "cells": [
  {
   "cell_type": "code",
   "execution_count": null,
   "id": "76438f70",
   "metadata": {},
   "outputs": [],
   "source": [
    "%pip install python-dotenv azure-ai-ml docker"
   ]
  },
  {
   "cell_type": "markdown",
   "id": "c3bf0157",
   "metadata": {},
   "source": [
    "### Imports and .env variables"
   ]
  },
  {
   "cell_type": "code",
   "execution_count": 2,
   "id": "b791ea13",
   "metadata": {},
   "outputs": [],
   "source": [
    "import os\n",
    "from dotenv import load_dotenv\n",
    "\n",
    "load_dotenv()\n",
    "\n",
    "subscription_id = os.getenv(\"SUBSCRIPTION_ID\")\n",
    "resource_group_name = \"insurance_claim\"\n",
    "workspace_name = \"fastapi_ml_app\"\n",
    "tenant_id = os.getenv(\"TENANT_ID\")"
   ]
  },
  {
   "cell_type": "markdown",
   "id": "bf14ff17",
   "metadata": {},
   "source": [
    "### Azure Login and Client"
   ]
  },
  {
   "cell_type": "code",
   "execution_count": 3,
   "id": "84d397f8",
   "metadata": {},
   "outputs": [],
   "source": [
    "from azure.ai.ml import MLClient\n",
    "from azure.identity import DefaultAzureCredential\n",
    "\n",
    "credential = DefaultAzureCredential()\n",
    "ml_client = MLClient(\n",
    "    credential,\n",
    "    subscription_id=subscription_id,\n",
    "    resource_group_name=resource_group_name,\n",
    "    workspace_name=workspace_name\n",
    "    )\n",
    "\n"
   ]
  },
  {
   "cell_type": "markdown",
   "id": "76673da8",
   "metadata": {},
   "source": [
    "## Managed Endpoints"
   ]
  },
  {
   "cell_type": "markdown",
   "id": "ad0bc60c",
   "metadata": {},
   "source": [
    "### Register the model"
   ]
  },
  {
   "cell_type": "code",
   "execution_count": null,
   "id": "180a90cf",
   "metadata": {},
   "outputs": [],
   "source": [
    "from azure.ai.ml.entities import Model\n",
    "\n",
    "model = Model(\n",
    "    path=\"./endpoint_deployment/trained_models/Random_Forest.pkl\",  # path to model dir or file\n",
    "    name=\"insurance_model\",\n",
    "    description=\"Random Forest model of the first task at g7cr\",\n",
    "    type=\"custom_model\",\n",
    "    version=1\n",
    ")\n",
    "\n",
    "registered_model = ml_client.models.create_or_update(model)\n"
   ]
  },
  {
   "cell_type": "markdown",
   "id": "6b97fe75",
   "metadata": {},
   "source": [
    "### Set up the environment"
   ]
  },
  {
   "cell_type": "code",
   "execution_count": null,
   "id": "4d9c8727",
   "metadata": {},
   "outputs": [
    {
     "data": {
      "text/plain": [
       "Environment({'arm_type': 'environment_version', 'latest_version': None, 'image': 'mcr.microsoft.com/azureml/openmpi4.1.0-ubuntu20.04', 'intellectual_property': None, 'is_anonymous': False, 'auto_increment_version': False, 'auto_delete_setting': None, 'name': 'insurance-endpt-env', 'description': 'Custom env for Random Forest scoring', 'tags': {}, 'properties': {'azureml.labels': 'latest'}, 'print_as_yaml': False, 'id': '/subscriptions/92e84d68-fcd6-4b50-af37-65156d8d5358/resourceGroups/insurance_claim/providers/Microsoft.MachineLearningServices/workspaces/fastapi_ml_app/environments/insurance-endpt-env/versions/1', 'Resource__source_path': '', 'base_path': 'c:\\\\Pyth\\\\G7-CR\\\\AzureML', 'creation_context': <azure.ai.ml.entities._system_data.SystemData object at 0x000001A87FDD81D0>, 'serialize': <msrest.serialization.Serializer object at 0x000001A8002F1D90>, 'version': '1', 'conda_file': {'channels': ['defaults', 'conda-forge'], 'dependencies': ['python=3.13.2', 'pip', 'scikit-learn=1.6.1', 'imbalanced-learn', 'pandas', 'numpy', {'pip': ['joblib', 'azureml-inference-server-http']}], 'name': 'insurance-env'}, 'build': None, 'inference_config': None, 'os_type': 'Linux', 'conda_file_path': None, 'path': None, 'datastore': None, 'upload_hash': None, 'translated_conda_file': '{\\n  \"channels\": [\\n    \"defaults\",\\n    \"conda-forge\"\\n  ],\\n  \"dependencies\": [\\n    \"python=3.13.2\",\\n    \"pip\",\\n    \"scikit-learn=1.6.1\",\\n    \"imbalanced-learn\",\\n    \"pandas\",\\n    \"numpy\",\\n    {\\n      \"pip\": [\\n        \"joblib\",\\n        \"azureml-inference-server-http\"\\n      ]\\n    }\\n  ],\\n  \"name\": \"insurance-env\"\\n}'})"
      ]
     },
     "execution_count": 12,
     "metadata": {},
     "output_type": "execute_result"
    }
   ],
   "source": [
    "from azure.ai.ml.entities import Environment\n",
    "\n",
    "env = Environment(\n",
    "    name=\"insurance-endpt-env\",\n",
    "    description=\"Custom env for Random Forest scoring\",\n",
    "    image=\"mcr.microsoft.com/azureml/openmpi4.1.0-ubuntu20.04\",  # base image\n",
    "    conda_file=\"./endpoint_deployment/environment.yml\",          # or requirements_file\n",
    ")\n",
    "\n",
    "ml_client.environments.create_or_update(env)\n"
   ]
  },
  {
   "cell_type": "markdown",
   "id": "5478aa02",
   "metadata": {},
   "source": [
    "### Create and Deploy the Managed Endpoint"
   ]
  },
  {
   "cell_type": "code",
   "execution_count": null,
   "id": "c915b479",
   "metadata": {},
   "outputs": [
    {
     "name": "stderr",
     "output_type": "stream",
     "text": [
      "Instance type Standard_DS1_v2 may be too small for compute resources. Minimum recommended compute SKU is Standard_DS3_v2 for general purpose endpoints. Learn more about SKUs here: https://learn.microsoft.com/azure/machine-learning/referencemanaged-online-endpoints-vm-sku-list\n",
      "Check: endpoint insurance-endpt-24ca exists\n"
     ]
    },
    {
     "data": {
      "text/plain": [
       "<azure.core.polling._poller.LROPoller at 0x1a800bee7d0>"
      ]
     },
     "execution_count": 25,
     "metadata": {},
     "output_type": "execute_result"
    },
    {
     "name": "stdout",
     "output_type": "stream",
     "text": [
      "............................................................................"
     ]
    }
   ],
   "source": [
    "from azure.ai.ml.entities import (\n",
    "    ManagedOnlineDeployment,\n",
    "    CodeConfiguration\n",
    ")\n",
    "from azure.ai.ml.entities import ManagedOnlineEndpoint\n",
    "import uuid\n",
    "\n",
    "endpoint_name = f\"insurance-endpt-{uuid.uuid4().hex[:4]}\"\n",
    "\n",
    "endpoint = ManagedOnlineEndpoint(\n",
    "    name=endpoint_name,\n",
    "    description=\"Managed endpoint for my model\",\n",
    "    auth_mode=\"key\"\n",
    ")\n",
    "\n",
    "deployment = ManagedOnlineDeployment(\n",
    "    name=\"blue\",\n",
    "    endpoint_name=endpoint_name,\n",
    "    model=registered_model.id,  # registered model ID\n",
    "    code_configuration=CodeConfiguration(\n",
    "        code=\"./endpoint_deployment\",       # folder with score.py and dependencies\n",
    "        scoring_script=\"score.py\"\n",
    "    ),\n",
    "    environment=env,\n",
    "    instance_type=\"Standard_DS1_v2\",\n",
    "    instance_count=1\n",
    ")\n",
    "\n",
    "endpoint_poller = ml_client.online_endpoints.begin_create_or_update(endpoint)\n",
    "endpoint_result = endpoint_poller.result()  # Waits for completion\n",
    "deployment_poller = ml_client.online_deployments.begin_create_or_update(deployment)\n",
    "deployment_result = deployment_poller.result()"
   ]
  },
  {
   "cell_type": "markdown",
   "id": "b5fbf0ac",
   "metadata": {},
   "source": [
    "### Update the traffic"
   ]
  },
  {
   "cell_type": "code",
   "execution_count": null,
   "id": "55fd4737",
   "metadata": {},
   "outputs": [
    {
     "name": "stderr",
     "output_type": "stream",
     "text": [
      "Readonly attribute principal_id will be ignored in class <class 'azure.ai.ml._restclient.v2022_05_01.models._models_py3.ManagedServiceIdentity'>\n",
      "Readonly attribute tenant_id will be ignored in class <class 'azure.ai.ml._restclient.v2022_05_01.models._models_py3.ManagedServiceIdentity'>\n"
     ]
    },
    {
     "data": {
      "text/plain": [
       "<azure.core.polling._poller.LROPoller at 0x1a8012ac610>"
      ]
     },
     "execution_count": 26,
     "metadata": {},
     "output_type": "execute_result"
    }
   ],
   "source": [
    "endpoint = ml_client.online_endpoints.get(endpoint_name)\n",
    "scoring_uri = endpoint.scoring_uri\n",
    "\n",
    "endpoint.traffic = {\"blue\": 100}\n",
    "ml_client.online_endpoints.begin_create_or_update(endpoint).result()"
   ]
  },
  {
   "cell_type": "code",
   "execution_count": null,
   "id": "2c6b0172",
   "metadata": {},
   "outputs": [
    {
     "name": "stdout",
     "output_type": "stream",
     "text": [
      "Endpoint scoring URI: https://insurance-endpt-24ca.eastus2.inference.ml.azure.com/score\n"
     ]
    }
   ],
   "source": [
    "# endpoint_name = \"insurance-endpt-24ca\"\n",
    "# endpoint = ml_client.online_endpoints.get(endpoint_name)\n",
    "# print(f\"Endpoint scoring URI: {endpoint.scoring_uri}\")"
   ]
  },
  {
   "cell_type": "markdown",
   "id": "6db81d66",
   "metadata": {},
   "source": [
    "### Invoke the managed endpoint"
   ]
  },
  {
   "cell_type": "code",
   "execution_count": null,
   "id": "7113c7bf",
   "metadata": {},
   "outputs": [
    {
     "data": {
      "text/plain": [
       "'{\"predictions\": [\"Accepted\", \"Denied\", \"Denied\", \"Accepted\"]}'"
      ]
     },
     "execution_count": 26,
     "metadata": {},
     "output_type": "execute_result"
    }
   ],
   "source": [
    "ml_client.online_endpoints.invoke(\n",
    "    endpoint_name=endpoint_name,\n",
    "    request_file=\"./endpoint_deployment/sample-request.json\"\n",
    ")\n"
   ]
  },
  {
   "cell_type": "markdown",
   "id": "8c841322",
   "metadata": {},
   "source": [
    "## AKS"
   ]
  },
  {
   "cell_type": "markdown",
   "id": "1696d13d",
   "metadata": {},
   "source": [
    "### Build and Push Image"
   ]
  },
  {
   "cell_type": "code",
   "execution_count": null,
   "id": "abdf8d54",
   "metadata": {},
   "outputs": [],
   "source": [
    "import docker\n",
    "import os\n",
    "\n",
    "# DockerHub credentials\n",
    "DOCKER_USERNAME = 'pramoda04'\n",
    "DOCKER_PASSWORD = 'pramoda@04'\n",
    "IMAGE_NAME = 'insuranceclaim'\n",
    "TAG = 'latest'\n",
    "FULL_IMAGE_NAME = f'{DOCKER_USERNAME}/{IMAGE_NAME}:{TAG}'\n",
    "\n",
    "# Path to the directory containing your Dockerfile\n",
    "dockerfile_path = r'C:\\Pyth\\G7-CR\\Insurance_claim'\n",
    "\n",
    "def build_and_push_image():\n",
    "    client = docker.from_env()\n",
    "\n",
    "    # Step 1: Build the Docker image\n",
    "    print(f'Building image {FULL_IMAGE_NAME}...')\n",
    "    image, build_logs = client.images.build(path=dockerfile_path, tag=FULL_IMAGE_NAME)\n",
    "    for log in build_logs:\n",
    "        if 'stream' in log:\n",
    "            print(log['stream'].strip())\n",
    "\n",
    "    # Step 2: Log in to Docker Hub\n",
    "    print('Logging in to Docker Hub...')\n",
    "    client.login(username=DOCKER_USERNAME, password=DOCKER_PASSWORD)\n",
    "\n",
    "    # Step 3: Push the Docker image\n",
    "    print(f'Pushing image {FULL_IMAGE_NAME}...')\n",
    "    push_logs = client.images.push(repository=FULL_IMAGE_NAME, stream=True, decode=True)\n",
    "    for log in push_logs:\n",
    "        if 'status' in log:\n",
    "            print(log['status'])\n",
    "\n",
    "    print('Image pushed successfully!')\n",
    "\n",
    "\n",
    "build_and_push_image()\n"
   ]
  },
  {
   "cell_type": "markdown",
   "id": "7ac6ecb9",
   "metadata": {},
   "source": [
    "### Setup AKS and create cluster"
   ]
  },
  {
   "cell_type": "code",
   "execution_count": 10,
   "id": "5745d616",
   "metadata": {},
   "outputs": [
    {
     "name": "stdout",
     "output_type": "stream",
     "text": [
      "Creating AKS cluster...\n",
      "AKS cluster created.\n"
     ]
    }
   ],
   "source": [
    "import os\n",
    "from azure.mgmt.resource import ResourceManagementClient\n",
    "from azure.mgmt.containerservice import ContainerServiceClient\n",
    "from kubernetes import client as k8s_client, config as k8s_config, utils as k8s_utils\n",
    "\n",
    "LOCATION = \"eastus\"\n",
    "CLUSTER_NAME = \"AutoAKSCluster\"\n",
    "\n",
    "# Get Resource Group\n",
    "resource_client = ResourceManagementClient(credential, subscription_id)\n",
    "resource_client.resource_groups.get(resource_group_name)\n",
    "\n",
    "# Create AKS Cluster with system-assigned identity\n",
    "aks_client = ContainerServiceClient(credential, subscription_id)\n",
    "\n",
    "print(\"Creating AKS cluster...\")\n",
    "aks_cluster_poller = aks_client.managed_clusters.begin_create_or_update(\n",
    "    resource_group_name,\n",
    "    CLUSTER_NAME,\n",
    "    {\n",
    "        \"location\": LOCATION,\n",
    "        \"dns_prefix\": \"fastapidns\",\n",
    "        \"agent_pool_profiles\": [\n",
    "            {\n",
    "                \"name\": \"nodepool1\",\n",
    "                \"count\": 1,\n",
    "                \"vm_size\": \"Standard_D2ls_v6\",\n",
    "                \"os_type\": \"Linux\",\n",
    "                \"type\": \"VirtualMachineScaleSets\",\n",
    "                \"mode\": \"System\"\n",
    "            }\n",
    "        ],\n",
    "        \"identity\": {\"type\": \"SystemAssigned\"},\n",
    "        \"enable_rbac\": True,\n",
    "        \"network_profile\": {\n",
    "            \"network_plugin\": \"azure\"\n",
    "        }\n",
    "    }\n",
    ").result()\n",
    "print(\"AKS cluster created.\")\n",
    "\n"
   ]
  },
  {
   "cell_type": "markdown",
   "id": "36ad903c",
   "metadata": {},
   "source": [
    "### Controls for deployed cluster"
   ]
  },
  {
   "cell_type": "code",
   "execution_count": null,
   "id": "2f559cc7",
   "metadata": {},
   "outputs": [
    {
     "name": "stdout",
     "output_type": "stream",
     "text": [
      "Stopping AKS cluster...\n",
      "Cluster stopped.\n"
     ]
    }
   ],
   "source": [
    "# ---- Stop the AKS Cluster ----\n",
    "def stop_cluster():\n",
    "    print(\"Stopping AKS cluster...\")\n",
    "    aks_client.managed_clusters.begin_stop(\n",
    "        resource_group_name=resource_group_name,\n",
    "        resource_name=CLUSTER_NAME\n",
    "    ).result()\n",
    "    print(\"Cluster stopped.\")\n",
    "\n",
    "# ---- Start the AKS Cluster ----\n",
    "def start_cluster():\n",
    "    print(\"Starting AKS cluster...\")\n",
    "    aks_client.managed_clusters.begin_start(\n",
    "        resource_group_name=resource_group_name,\n",
    "        resource_name=CLUSTER_NAME\n",
    "    ).result()\n",
    "    print(\"Cluster started.\")\n",
    "\n",
    "# Call the one you want:\n",
    "# stop_cluster()\n",
    "start_cluster()\n",
    "\n"
   ]
  },
  {
   "cell_type": "markdown",
   "id": "8468ad6b",
   "metadata": {},
   "source": [
    "### Fetch deployed cluster and apply the yaml"
   ]
  },
  {
   "cell_type": "code",
   "execution_count": null,
   "id": "a8fb2810",
   "metadata": {},
   "outputs": [],
   "source": [
    "# Get credentials for kubectl\n",
    "print(\"Fetching AKS credentials...\")\n",
    "os.system(f\"az aks get-credentials --resource-group {resource_group_name} --name {CLUSTER_NAME} --overwrite-existing\")\n",
    "\n",
    "# Deploy to AKS via Kubernetes\n",
    "k8s_config.load_kube_config()\n",
    "\n",
    "print(\"Deploying to AKS...\")\n",
    "k8s_utils.create_from_yaml(k8s_client.ApiClient(), \"deployment.yaml\")\n",
    "\n",
    "print(\"Deployment initiated. It may take a few minutes for the LoadBalancer IP to be assigned.\")\n"
   ]
  },
  {
   "cell_type": "code",
   "execution_count": null,
   "id": "0ac55d8f",
   "metadata": {},
   "outputs": [],
   "source": [
    "os.system(\"kubectl get services\")"
   ]
  },
  {
   "cell_type": "markdown",
   "id": "176d6ac2",
   "metadata": {},
   "source": [
    "### To apply changes to existing deployment"
   ]
  },
  {
   "cell_type": "code",
   "execution_count": null,
   "id": "e773c2d5",
   "metadata": {},
   "outputs": [],
   "source": [
    "os.system(\"kubectl apply -f deployment.yaml\")"
   ]
  }
 ],
 "metadata": {
  "kernelspec": {
   "display_name": "Python 3",
   "language": "python",
   "name": "python3"
  },
  "language_info": {
   "codemirror_mode": {
    "name": "ipython",
    "version": 3
   },
   "file_extension": ".py",
   "mimetype": "text/x-python",
   "name": "python",
   "nbconvert_exporter": "python",
   "pygments_lexer": "ipython3",
   "version": "3.11.9"
  }
 },
 "nbformat": 4,
 "nbformat_minor": 5
}
