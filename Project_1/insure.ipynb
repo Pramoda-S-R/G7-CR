{
 "cells": [
  {
   "cell_type": "code",
   "execution_count": 7,
   "metadata": {},
   "outputs": [
    {
     "name": "stdout",
     "output_type": "stream",
     "text": [
      "Package                 Version\n",
      "----------------------- -----------\n",
      "asttokens               3.0.0\n",
      "colorama                0.4.6\n",
      "comm                    0.2.2\n",
      "contourpy               1.3.1\n",
      "cycler                  0.12.1\n",
      "debugpy                 1.8.13\n",
      "decorator               5.2.1\n",
      "executing               2.2.0\n",
      "fonttools               4.56.0\n",
      "graphviz                0.20.3\n",
      "imbalanced-learn        0.13.0\n",
      "ipykernel               6.29.5\n",
      "ipython                 9.0.2\n",
      "ipython_pygments_lexers 1.1.1\n",
      "jedi                    0.19.2\n",
      "joblib                  1.4.2\n",
      "jupyter_client          8.6.3\n",
      "jupyter_core            5.7.2\n",
      "kiwisolver              1.4.8\n",
      "matplotlib              3.10.1\n",
      "matplotlib-inline       0.1.7\n",
      "nest-asyncio            1.6.0\n",
      "numpy                   2.2.3\n",
      "packaging               24.2\n",
      "pandas                  2.2.3\n",
      "parso                   0.8.4\n",
      "pillow                  11.1.0\n",
      "pip                     25.0.1\n",
      "platformdirs            4.3.6\n",
      "prompt_toolkit          3.0.50\n",
      "psutil                  7.0.0\n",
      "pure_eval               0.2.3\n",
      "Pygments                2.19.1\n",
      "pyparsing               3.2.1\n",
      "python-dateutil         2.9.0.post0\n",
      "pytz                    2025.1\n",
      "pywin32                 309\n",
      "pyzmq                   26.3.0\n",
      "scikit-learn            1.6.1\n",
      "scipy                   1.15.2\n",
      "seaborn                 0.13.2\n",
      "six                     1.17.0\n",
      "sklearn-compat          0.1.3\n",
      "stack-data              0.6.3\n",
      "threadpoolctl           3.5.0\n",
      "tornado                 6.4.2\n",
      "traitlets               5.14.3\n",
      "tzdata                  2025.1\n",
      "wcwidth                 0.2.13\n",
      "xgboost                 2.1.4\n",
      "Note: you may need to restart the kernel to use updated packages.\n"
     ]
    }
   ],
   "source": [
    "%pip list"
   ]
  },
  {
   "cell_type": "code",
   "execution_count": 1,
   "metadata": {},
   "outputs": [],
   "source": [
    "import pandas as pd\n",
    "import numpy as np\n",
    "import matplotlib.pyplot as plt\n",
    "import seaborn as sns\n",
    "import joblib\n",
    "import os\n",
    "\n",
    "from sklearn.model_selection import train_test_split\n",
    "from imblearn.over_sampling import SMOTE\n",
    "\n",
    "from sklearn.linear_model import LogisticRegression\n",
    "from sklearn.ensemble import RandomForestClassifier, GradientBoostingClassifier\n",
    "from sklearn.svm import SVC\n",
    "from sklearn.neighbors import KNeighborsClassifier\n",
    "from sklearn.naive_bayes import GaussianNB\n",
    "from sklearn.neural_network import MLPClassifier\n",
    "from sklearn.metrics import accuracy_score, precision_score, recall_score, f1_score, roc_auc_score, confusion_matrix\n"
   ]
  },
  {
   "cell_type": "code",
   "execution_count": 47,
   "metadata": {},
   "outputs": [],
   "source": [
    "class Insurance:\n",
    "    def __init__(self, file_path: str):\n",
    "        self.df = pd.read_csv(file_path)\n",
    "        self.training_results: pd.DataFrame\n",
    "        self.models = {\n",
    "            \"Logistic Regression\": LogisticRegression(max_iter=1000, random_state=42, class_weight=\"balanced\"),\n",
    "            \"Random Forest\": RandomForestClassifier(n_estimators=100, random_state=42, class_weight=\"balanced\"),\n",
    "            \"Gradient Boosting\": GradientBoostingClassifier(n_estimators=100, random_state=42),\n",
    "            \"SVM\": SVC(kernel='linear', random_state=42, class_weight=\"balanced\"),\n",
    "            \"Neural Network\": MLPClassifier(hidden_layer_sizes=(100,), max_iter=500, random_state=42),\n",
    "            \"KNN\": KNeighborsClassifier(n_neighbors=5),\n",
    "            \"Naive Bayes\": GaussianNB()\n",
    "        }\n",
    "        self.categorical_cols = ['Insurance Company', 'CPT4 - Procedure', 'Diag 1', 'Diag 2', 'Modality', 'Place Of Serv']\n",
    "        self.model_path = \"trained_models/\"  # Directory to save models\n",
    "\n",
    "    def clean_data(self, file_path: str = None, training: bool = False):\n",
    "        df = pd.read_csv(file_path) if file_path else self.df\n",
    "\n",
    "        if 'Denied' not in df.columns:\n",
    "            df['Denied'] = 'Void'\n",
    "        \n",
    "        df = df.drop(columns=['Mod 1', 'Mod 2'])\n",
    "        df['Diag 2'] = df['Diag 2'].fillna('None')\n",
    "        df['Modality'] = df['Modality'].fillna('Unknown')\n",
    "        df['Denied'] = df['Denied'].apply(lambda x: 'Denied' if pd.notna(x) else x)\n",
    "        df['Denied'] = df['Denied'].fillna('Accepted')\n",
    "\n",
    "        # Label encode target variable\n",
    "        df['Denied'] = df['Denied'].map({'Denied': 0, 'Accepted': 1})\n",
    "\n",
    "        # One-hot encode categorical variables\n",
    "        df_encoded = pd.get_dummies(df, columns=self.categorical_cols, drop_first=True)\n",
    "\n",
    "        if training:\n",
    "            self.feature_names = df_encoded.columns.tolist()  # Store feature names\n",
    "            joblib.dump(self.feature_names, \"trained_models/feature_names.pkl\")\n",
    "\n",
    "        else:\n",
    "            missing_cols = [col for col in self.feature_names if col not in df_encoded.columns]\n",
    "\n",
    "            if missing_cols:\n",
    "                missing_df = pd.DataFrame(0, index=df_encoded.index, columns=missing_cols)\n",
    "                df_encoded = pd.concat([df_encoded, missing_df], axis=1)\n",
    "\n",
    "            df_encoded = df_encoded[self.feature_names]\n",
    "\n",
    "        # Split X and y\n",
    "        X = df_encoded.drop(columns=['Denied'])\n",
    "        y = df_encoded['Denied']\n",
    "        X = X.astype(float)\n",
    "\n",
    "        # Apply SMOTE only during training\n",
    "        if training:\n",
    "            smote = SMOTE(random_state=42)\n",
    "            X_resampled, y_resampled = smote.fit_resample(X, y)\n",
    "            return train_test_split(X_resampled, y_resampled, test_size=0.2, random_state=42, stratify=y_resampled)\n",
    "\n",
    "        return X\n",
    "    \n",
    "    def eda(self, column: str):\n",
    "        \"\"\"Performs Exploratory Data Analysis (EDA) on the specified column.\"\"\"\n",
    "        if column not in self.df.columns:\n",
    "            print(f\"Column '{column}' not found in the dataset.\")\n",
    "            return\n",
    "        \n",
    "        print(f\"Performing EDA on '{column}'...\\n\")\n",
    "        \n",
    "        # Summary statistics\n",
    "        print(\"Summary Statistics:\")\n",
    "        print(self.df[column].describe())\n",
    "        print(\"\\n\")\n",
    "\n",
    "        y_size = round(len(self.df[column].unique()) / 6)\n",
    "\n",
    "        # Check if column is categorical or numerical\n",
    "        if self.df[column].dtype == 'object':\n",
    "            print(\"Value Counts:\")\n",
    "            print(self.df[column].value_counts())\n",
    "            plt.figure(figsize=(10, y_size))\n",
    "            sns.countplot(y=self.df[column], order=self.df[column].value_counts().index, hue=self.df[column], palette=\"viridis\", legend=False)\n",
    "            plt.title(f\"Distribution of {column}\")\n",
    "            plt.xlabel(\"Count\")\n",
    "            plt.ylabel(column)\n",
    "            plt.show()\n",
    "        else:\n",
    "            plt.figure(figsize=(10, y_size))\n",
    "            sns.histplot(self.df[column], bins=30, kde=True, color=\"blue\")\n",
    "            plt.title(f\"Distribution of {column}\")\n",
    "            plt.xlabel(column)\n",
    "            plt.ylabel(\"Count\")\n",
    "            plt.show()\n",
    "\n",
    "    \n",
    "    def train(self):\n",
    "        results = {}\n",
    "        X_train, X_test, y_train, y_test = self.clean_data(training=True)\n",
    "\n",
    "        # Ensure model directory exists\n",
    "        os.makedirs(self.model_path, exist_ok=True)\n",
    "\n",
    "        for name, model in self.models.items():\n",
    "            print(f\"Training {name}...\")\n",
    "            model.fit(X_train, y_train)  # Train\n",
    "            y_pred = model.predict(X_test)  # Predict\n",
    "\n",
    "            if hasattr(model, \"predict_proba\"):\n",
    "                y_proba = model.predict_proba(X_test)[:, 1]\n",
    "            elif hasattr(model, \"decision_function\"):\n",
    "                y_proba = model.decision_function(X_test)\n",
    "            else:\n",
    "                y_proba = None\n",
    "\n",
    "            results[name] = {\n",
    "                \"Accuracy\": accuracy_score(y_test, y_pred),\n",
    "                \"Precision\": precision_score(y_test, y_pred),\n",
    "                \"Recall\": recall_score(y_test, y_pred),\n",
    "                \"F1 Score\": f1_score(y_test, y_pred),\n",
    "                \"ROC-AUC\": roc_auc_score(y_test, y_proba) if y_proba is not None else \"N/A\",\n",
    "                \"Confusion Matrix\": confusion_matrix(y_test, y_pred)\n",
    "            }\n",
    "\n",
    "            # Save trained model\n",
    "            model_filename = f\"{self.model_path}{name.replace(' ', '_')}.pkl\"\n",
    "            joblib.dump(model, model_filename)\n",
    "\n",
    "        self.training_results = pd.DataFrame(results).T\n",
    "        print(\"All models trained and saved successfully.\")\n",
    "\n",
    "    def generate_validation_csv(self, num_rows: int, file_path: str):\n",
    "        if num_rows > len(self.df):\n",
    "            raise ValueError(\"num_rows cannot be greater than the number of rows in the DataFrame\")\n",
    "    \n",
    "        df = self.df.sample(n=num_rows, random_state=None).reset_index(drop=True)\n",
    "        ref = df[\"Denied\"]\n",
    "        df.drop(columns=[\"Denied\"], inplace=True)\n",
    "        df.to_csv(file_path, index=False)\n",
    "\n",
    "        return ref.fillna(\"Accepted\").rename(\"Original Result\")\n",
    "\n",
    "    def predict(self, model_name: str, file_path: str):\n",
    "        \"\"\"Load a trained model and make predictions.\"\"\"\n",
    "        model_file = f\"{self.model_path}{model_name.replace(' ', '_')}.pkl\"\n",
    "        try:\n",
    "            model = joblib.load(model_file)\n",
    "        except FileNotFoundError:\n",
    "            print(f\"Model '{model_name}' not found. Please train the model first.\")\n",
    "            return\n",
    "        \n",
    "        X = self.clean_data(file_path=file_path)\n",
    "        y_pred = model.predict(X)\n",
    "        return np.where(y_pred == 1, \"Accepted\", \"Denied\")"
   ]
  },
  {
   "cell_type": "code",
   "execution_count": 48,
   "metadata": {},
   "outputs": [],
   "source": [
    "omega = Insurance(file_path=\"./Omega_healthcare.csv\")"
   ]
  },
  {
   "cell_type": "markdown",
   "metadata": {},
   "source": [
    "## EDA"
   ]
  },
  {
   "cell_type": "code",
   "execution_count": 56,
   "metadata": {},
   "outputs": [
    {
     "name": "stdout",
     "output_type": "stream",
     "text": [
      "Performing EDA on 'Insurance Company'...\n",
      "\n",
      "Summary Statistics:\n",
      "count     2000\n",
      "unique      61\n",
      "top          2\n",
      "freq       380\n",
      "Name: Insurance Company, dtype: object\n",
      "\n",
      "\n",
      "Value Counts:\n",
      "Insurance Company\n",
      "2      380\n",
      "25     287\n",
      "1      142\n",
      "4      111\n",
      "6      100\n",
      "      ... \n",
      " vc      1\n",
      "38       1\n",
      "49       1\n",
      "54       1\n",
      "57       1\n",
      "Name: count, Length: 61, dtype: int64\n"
     ]
    },
    {
     "data": {
      "image/png": "[encoded data removed]",
      "text/plain": [
       "<Figure size 1000x1000 with 1 Axes>"
      ]
     },
     "metadata": {},
     "output_type": "display_data"
    }
   ],
   "source": [
    "# parameters: ['Insurance Company', 'CPT4 - Procedure', 'Diag 1', 'Diag 2', 'Modality', 'Place Of Serv']\n",
    "omega.eda(\"Insurance Company\")"
   ]
  },
  {
   "cell_type": "code",
   "execution_count": 50,
   "metadata": {},
   "outputs": [
    {
     "name": "stdout",
     "output_type": "stream",
     "text": [
      "Training Logistic Regression...\n",
      "Training Random Forest...\n",
      "Training Gradient Boosting...\n",
      "Training SVM...\n",
      "Training Neural Network...\n",
      "Training KNN...\n",
      "Training Naive Bayes...\n",
      "All models trained and saved successfully.\n"
     ]
    }
   ],
   "source": [
    "omega.train()"
   ]
  },
  {
   "cell_type": "code",
   "execution_count": 51,
   "metadata": {},
   "outputs": [
    {
     "data": {
      "text/html": [
       "<div>\n",
       "<style scoped>\n",
       "    .dataframe tbody tr th:only-of-type {\n",
       "        vertical-align: middle;\n",
       "    }\n",
       "\n",
       "    .dataframe tbody tr th {\n",
       "        vertical-align: top;\n",
       "    }\n",
       "\n",
       "    .dataframe thead th {\n",
       "        text-align: right;\n",
       "    }\n",
       "</style>\n",
       "<table border=\"1\" class=\"dataframe\">\n",
       "  <thead>\n",
       "    <tr style=\"text-align: right;\">\n",
       "      <th></th>\n",
       "      <th>Accuracy</th>\n",
       "      <th>Precision</th>\n",
       "      <th>Recall</th>\n",
       "      <th>F1 Score</th>\n",
       "      <th>ROC-AUC</th>\n",
       "      <th>Confusion Matrix</th>\n",
       "    </tr>\n",
       "  </thead>\n",
       "  <tbody>\n",
       "    <tr>\n",
       "      <th>Logistic Regression</th>\n",
       "      <td>0.855093</td>\n",
       "      <td>0.884735</td>\n",
       "      <td>0.816092</td>\n",
       "      <td>0.849028</td>\n",
       "      <td>0.921125</td>\n",
       "      <td>[[312, 37], [64, 284]]</td>\n",
       "    </tr>\n",
       "    <tr>\n",
       "      <th>Random Forest</th>\n",
       "      <td>0.962697</td>\n",
       "      <td>0.949721</td>\n",
       "      <td>0.977011</td>\n",
       "      <td>0.963173</td>\n",
       "      <td>0.99191</td>\n",
       "      <td>[[331, 18], [8, 340]]</td>\n",
       "    </tr>\n",
       "    <tr>\n",
       "      <th>Gradient Boosting</th>\n",
       "      <td>0.901004</td>\n",
       "      <td>0.882192</td>\n",
       "      <td>0.925287</td>\n",
       "      <td>0.903226</td>\n",
       "      <td>0.948511</td>\n",
       "      <td>[[306, 43], [26, 322]]</td>\n",
       "    </tr>\n",
       "    <tr>\n",
       "      <th>SVM</th>\n",
       "      <td>0.870875</td>\n",
       "      <td>0.93</td>\n",
       "      <td>0.801724</td>\n",
       "      <td>0.861111</td>\n",
       "      <td>0.919816</td>\n",
       "      <td>[[328, 21], [69, 279]]</td>\n",
       "    </tr>\n",
       "    <tr>\n",
       "      <th>Neural Network</th>\n",
       "      <td>0.965567</td>\n",
       "      <td>0.987952</td>\n",
       "      <td>0.942529</td>\n",
       "      <td>0.964706</td>\n",
       "      <td>0.995525</td>\n",
       "      <td>[[345, 4], [20, 328]]</td>\n",
       "    </tr>\n",
       "    <tr>\n",
       "      <th>KNN</th>\n",
       "      <td>0.71736</td>\n",
       "      <td>0.957576</td>\n",
       "      <td>0.454023</td>\n",
       "      <td>0.615984</td>\n",
       "      <td>0.852711</td>\n",
       "      <td>[[342, 7], [190, 158]]</td>\n",
       "    </tr>\n",
       "    <tr>\n",
       "      <th>Naive Bayes</th>\n",
       "      <td>0.734577</td>\n",
       "      <td>1.0</td>\n",
       "      <td>0.468391</td>\n",
       "      <td>0.637965</td>\n",
       "      <td>0.734195</td>\n",
       "      <td>[[349, 0], [185, 163]]</td>\n",
       "    </tr>\n",
       "  </tbody>\n",
       "</table>\n",
       "</div>"
      ],
      "text/plain": [
       "                     Accuracy Precision    Recall  F1 Score   ROC-AUC  \\\n",
       "Logistic Regression  0.855093  0.884735  0.816092  0.849028  0.921125   \n",
       "Random Forest        0.962697  0.949721  0.977011  0.963173   0.99191   \n",
       "Gradient Boosting    0.901004  0.882192  0.925287  0.903226  0.948511   \n",
       "SVM                  0.870875      0.93  0.801724  0.861111  0.919816   \n",
       "Neural Network       0.965567  0.987952  0.942529  0.964706  0.995525   \n",
       "KNN                   0.71736  0.957576  0.454023  0.615984  0.852711   \n",
       "Naive Bayes          0.734577       1.0  0.468391  0.637965  0.734195   \n",
       "\n",
       "                           Confusion Matrix  \n",
       "Logistic Regression  [[312, 37], [64, 284]]  \n",
       "Random Forest         [[331, 18], [8, 340]]  \n",
       "Gradient Boosting    [[306, 43], [26, 322]]  \n",
       "SVM                  [[328, 21], [69, 279]]  \n",
       "Neural Network        [[345, 4], [20, 328]]  \n",
       "KNN                  [[342, 7], [190, 158]]  \n",
       "Naive Bayes          [[349, 0], [185, 163]]  "
      ]
     },
     "execution_count": 51,
     "metadata": {},
     "output_type": "execute_result"
    }
   ],
   "source": [
    "omega.training_results"
   ]
  },
  {
   "cell_type": "code",
   "execution_count": 52,
   "metadata": {},
   "outputs": [],
   "source": [
    "validation_path = './valid.csv'\n",
    "reference_result = omega.generate_validation_csv(30, validation_path)"
   ]
  },
  {
   "cell_type": "code",
   "execution_count": 53,
   "metadata": {},
   "outputs": [],
   "source": [
    "predictions = omega.predict(model_name='Random Forest', file_path=validation_path)"
   ]
  },
  {
   "cell_type": "markdown",
   "metadata": {},
   "source": [
    "## Actual Result"
   ]
  },
  {
   "cell_type": "code",
   "execution_count": 54,
   "metadata": {},
   "outputs": [
    {
     "name": "stdout",
     "output_type": "stream",
     "text": [
      "['Accepted' 'Accepted' 'Denied' 'Accepted' 'Accepted' 'Accepted'\n",
      " 'Accepted' 'Accepted' 'Accepted' 'Accepted' 'Accepted' 'Accepted'\n",
      " 'Accepted' 'Accepted' 'Denied' 'Denied' 'Accepted' 'Denied' 'Accepted'\n",
      " 'Accepted' 'Accepted' 'Denied' 'Accepted' 'Accepted' 'Accepted'\n",
      " 'Accepted' 'Accepted' 'Accepted' 'Accepted' 'Accepted']\n"
     ]
    }
   ],
   "source": [
    "print(reference_result.values)"
   ]
  },
  {
   "cell_type": "markdown",
   "metadata": {},
   "source": [
    "## Predictions"
   ]
  },
  {
   "cell_type": "code",
   "execution_count": 55,
   "metadata": {},
   "outputs": [
    {
     "name": "stdout",
     "output_type": "stream",
     "text": [
      "['Accepted' 'Accepted' 'Denied' 'Accepted' 'Accepted' 'Accepted'\n",
      " 'Accepted' 'Accepted' 'Accepted' 'Accepted' 'Accepted' 'Denied'\n",
      " 'Accepted' 'Accepted' 'Denied' 'Denied' 'Accepted' 'Accepted' 'Accepted'\n",
      " 'Accepted' 'Accepted' 'Denied' 'Accepted' 'Accepted' 'Accepted'\n",
      " 'Accepted' 'Accepted' 'Accepted' 'Accepted' 'Accepted']\n"
     ]
    }
   ],
   "source": [
    "print(predictions)"
   ]
  },
  {
   "cell_type": "markdown",
   "metadata": {},
   "source": [
    "# Insurance Claim Denial Prediction - Summary\n",
    "\n",
    "This project builds a machine learning pipeline to predict insurance claim denials, using SMOTE to address class imbalance and evaluating seven classification models.\n",
    "\n",
    "## Key Results\n",
    "\n",
    "Out of the models tested:\n",
    "\n",
    "- **Random Forest** and **Neural Network** performed best, achieving over **96% accuracy**, **high precision**, and **strong recall**, with ROC-AUC scores above **0.99**.\n",
    "- **Gradient Boosting** and **SVM** also delivered solid performance, balancing precision and recall well.\n",
    "- **Logistic Regression** showed reliable, balanced performance with an ROC-AUC of **0.92**.\n",
    "- **KNN** and **Naive Bayes** had high precision but **low recall**, indicating they struggle with correctly identifying positive (Accepted) cases.\n",
    "\n",
    "## Conclusion\n",
    "\n",
    "The Random Forest and Neural Network models are the most effective for predicting claim denials in this dataset and are recommended for deployment in real-time scenarios."
   ]
  }
 ],
 "metadata": {
  "kernelspec": {
   "display_name": "omega",
   "language": "python",
   "name": "python3"
  },
  "language_info": {
   "codemirror_mode": {
    "name": "ipython",
    "version": 3
   },
   "file_extension": ".py",
   "mimetype": "text/x-python",
   "name": "python",
   "nbconvert_exporter": "python",
   "pygments_lexer": "ipython3",
   "version": "3.13.2"
  }
 },
 "nbformat": 4,
 "nbformat_minor": 2
}
