{
 "cells": [
  {
   "cell_type": "code",
   "execution_count": 5,
   "id": "6f5860c6",
   "metadata": {},
   "outputs": [],
   "source": [
    "import weaviate\n",
    "from weaviate.classes.init import Auth\n",
    "import json"
   ]
  },
  {
   "cell_type": "code",
   "execution_count": null,
   "id": "1dc27c04",
   "metadata": {},
   "outputs": [],
   "source": [
    "from langchain.callbacks.base import BaseCallbackHandler\n",
    "\n",
    "class MyCustomHandler(BaseCallbackHandler):\n",
    "    def on_llm_new_token(self, token: str, **kwargs) -> None:\n",
    "        print(token, end=\"\", flush=True)"
   ]
  },
  {
   "cell_type": "code",
   "execution_count": 10,
   "id": "0dcc5b3c",
   "metadata": {},
   "outputs": [],
   "source": [
    "from langchain_openai import AzureChatOpenAI\n",
    "\n",
    "llm = AzureChatOpenAI(\n",
    "    azure_deployment=\"gpt-4.1\",  # or your deployment\n",
    "    api_version=\"2025-01-01-preview\",  # or your api version\n",
    "    temperature=0,\n",
    "    max_tokens=None,\n",
    "    timeout=None,\n",
    "    max_retries=2,\n",
    "    streaming=True,\n",
    "    callbacks=[MyCustomHandler()],\n",
    "    azure_endpoint=\"https://vishn-mbusn60p-swedencentral.openai.azure.com/\",\n",
    "    api_key=\"4NX3FZfJZqlhxBSkfzITV5vLqhdxvg4gz0uQJwjtxlrkU1WKkUcZJQQJ99BFACfhMk5XJ3w3AAAAACOGZLMY\",\n",
    ")"
   ]
  },
  {
   "cell_type": "code",
   "execution_count": 7,
   "id": "ecd73dc2",
   "metadata": {},
   "outputs": [],
   "source": [
    "def search_documents(query):\n",
    "    \"\"\"\n",
    "    Queries Weaviate for similar text chunks based on a natural language query.\n",
    "\n",
    "    Args:\n",
    "        query_text (str): The query text to search for.\n",
    "\n",
    "    Returns:\n",
    "        str: JSON string of context data with 'text' and 'metadata'.\n",
    "    \"\"\"\n",
    "    # Define Weaviate Cloud connection parameters\n",
    "\n",
    "    weaviate_url = '3tovdeihtdsygyyan0z3aa.c0.asia-southeast1.gcp.weaviate.cloud'\n",
    "    weaviate_api_key = \"R0hodm5yeHlmeTdmMU1DU19Yc2ErR0dmNXA1djZLVWFpc2hMaEdqbDBNbjRWVUVhVng4ZVJ3QzZxbWtVPV92MjAw\"\n",
    "\n",
    "    context_data = []\n",
    "    \n",
    "    # Connect to Weaviate Cloud\n",
    "    client = weaviate.connect_to_weaviate_cloud(\n",
    "        cluster_url=weaviate_url,\n",
    "        auth_credentials=Auth.api_key(weaviate_api_key)\n",
    "    )\n",
    "    if not client.is_ready():\n",
    "        raise RuntimeError(\"Weaviate client not ready!\")\n",
    "    \n",
    "    # Get collection\n",
    "    collection = client.collections.get(\"PdfChunks\")\n",
    "\n",
    "    # Query for similar text chunks\n",
    "    response = collection.query.near_text(\n",
    "        query=query,  # The model provider integration will automatically vectorize the query\n",
    "        limit=10\n",
    "    )\n",
    "    client.close()\n",
    "    \n",
    "    for obj in response.objects:\n",
    "        context_data.append(obj.properties)\n",
    "\n",
    "    return json.dumps(context_data)"
   ]
  },
  {
   "cell_type": "code",
   "execution_count": 11,
   "id": "925327d3",
   "metadata": {},
   "outputs": [],
   "source": [
    "from langchain.agents import initialize_agent, Tool, AgentType\n",
    "\n",
    "tools = [\n",
    "    Tool(\n",
    "        name=\"search_documents\",\n",
    "        func=search_documents,\n",
    "        description=\"Searches Weaviate for similar text chunks based on a natural language query. Returns JSON string of context data with 'text' and 'metadata'.\"\n",
    "    )\n",
    "]\n",
    "\n",
    "agent = initialize_agent(\n",
    "    tools,\n",
    "    llm,\n",
    "    agent=AgentType.OPENAI_FUNCTIONS,\n",
    "    verbose=False,\n",
    ")\n"
   ]
  },
  {
   "cell_type": "code",
   "execution_count": 16,
   "id": "940da939",
   "metadata": {},
   "outputs": [
    {
     "name": "stdout",
     "output_type": "stream",
     "text": [
      "The role of the CEO (Chief Executive Officer) at Contoso Electronics is to provide strategic direction and oversight to ensure the company’s long-term success and profitability. Here are the key responsibilities of the CEO at Contoso:\n",
      "\n",
      "- Develop and implement strategy and objectives to ensure the financial success and long-term growth of the company.\n",
      "- Provide strategic guidance and direction to the executive team and manage the day-to-day operations of the company.\n",
      "- Ensure compliance with all laws and regulations.\n",
      "- Oversee the development of marketing and advertising strategies.\n",
      "- Develop and manage relationships with key stakeholders.\n",
      "- Represent the company in speaking engagements and other public events.\n",
      "- Manage and negotiate contracts with vendors and suppliers.\n",
      "- Monitor industry trends and identify opportunities for growth.\n",
      "- Develop and maintain a positive company culture.\n",
      "\n",
      "Qualifications typically include a bachelor’s degree in business or a related field, 10+ years of experience in executive management, proven leadership skills, strong problem-solving and analytical abilities, and excellent communication and interpersonal skills.\n",
      "\n",
      "(Source: Contoso Electronics Role Library, Chief Executive Officer Job Description)"
     ]
    }
   ],
   "source": [
    "response = agent.invoke(\"What's the role of ceo in contoso?\")\n"
   ]
  }
 ],
 "metadata": {
  "kernelspec": {
   "display_name": "proj-genai",
   "language": "python",
   "name": "python3"
  },
  "language_info": {
   "codemirror_mode": {
    "name": "ipython",
    "version": 3
   },
   "file_extension": ".py",
   "mimetype": "text/x-python",
   "name": "python",
   "nbconvert_exporter": "python",
   "pygments_lexer": "ipython3",
   "version": "3.13.2"
  }
 },
 "nbformat": 4,
 "nbformat_minor": 5
}
